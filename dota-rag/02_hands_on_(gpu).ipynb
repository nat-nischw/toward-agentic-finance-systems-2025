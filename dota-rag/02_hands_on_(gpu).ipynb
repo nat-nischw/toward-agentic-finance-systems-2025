{
 "cells": [
  {
   "cell_type": "markdown",
   "metadata": {},
   "source": [
    "typhoon-api: https://docs.opentyphoon.ai/en/"
   ]
  },
  {
   "cell_type": "markdown",
   "metadata": {},
   "source": [
    "# Installation"
   ]
  },
  {
   "cell_type": "code",
   "execution_count": 1,
   "metadata": {},
   "outputs": [],
   "source": [
    "# %pip install llama-index llama-index-vector-stores-pinecone llama-index-llms-openai-like\n",
    "# %pip install llama-index-embeddings-huggingface\n",
    "# %pip install xformers\n",
    "# %pip install dependency -U\n",
    "# %pip install datasets einop"
   ]
  },
  {
   "cell_type": "code",
   "execution_count": 2,
   "metadata": {},
   "outputs": [],
   "source": [
    "# %pip install transformers -U"
   ]
  },
  {
   "cell_type": "code",
   "execution_count": 3,
   "metadata": {},
   "outputs": [
    {
     "data": {
      "text/plain": [
       "True"
      ]
     },
     "execution_count": 3,
     "metadata": {},
     "output_type": "execute_result"
    }
   ],
   "source": [
    "from dotenv import load_dotenv\n",
    "import os\n",
    "load_dotenv()"
   ]
  },
  {
   "cell_type": "markdown",
   "metadata": {},
   "source": [
    "## Getting Started"
   ]
  },
  {
   "cell_type": "markdown",
   "metadata": {},
   "source": [
    "### Get your API Key (Typhoon): https://docs.opentyphoon.ai/en/quickstart/"
   ]
  },
  {
   "cell_type": "code",
   "execution_count": 4,
   "metadata": {},
   "outputs": [
    {
     "name": "stdout",
     "output_type": "stream",
     "text": [
      "Hello! How can I help you today?\n"
     ]
    }
   ],
   "source": [
    "from llama_index.llms.openai_like import OpenAILike\n",
    "\n",
    "llm = OpenAILike(\n",
    "    model=\"typhoon-v2-70b-instruct\",\n",
    "    api_base=\"https://api.opentyphoon.ai/v1\",\n",
    "    api_key=os.getenv(\"TYPHOON_API_BASE\"),\n",
    "    context_window=8192,\n",
    "    is_chat_model=True,\n",
    "    is_function_calling_model=False,\n",
    ")\n",
    "\n",
    "response = llm.complete(\"Hello World!\")\n",
    "print(str(response))"
   ]
  },
  {
   "cell_type": "markdown",
   "metadata": {},
   "source": [
    "### Get Pinecone Vector DB\n",
    "\n",
    "-  Pinecone: https://www.pinecone.io, https://docs.pinecone.io/guides/index-data/create-an-index\n",
    "- LlmaIndex: https://docs.llamaindex.ai/en/stable/examples/vector_stores/PineconeIndexDemo/"
   ]
  },
  {
   "cell_type": "markdown",
   "metadata": {},
   "source": [
    "#### Download Data:"
   ]
  },
  {
   "cell_type": "code",
   "execution_count": 5,
   "metadata": {},
   "outputs": [],
   "source": [
    "# !mkdir -p 'data/paul_graham/'\n",
    "# !wget 'https://raw.githubusercontent.com/run-llama/llama_index/main/docs/docs/examples/data/paul_graham/paul_graham_essay.txt' -O 'data/paul_graham/paul_graham_essay.txt'"
   ]
  },
  {
   "cell_type": "code",
   "execution_count": 8,
   "metadata": {},
   "outputs": [],
   "source": [
    "from llama_index.core import SimpleDirectoryReader\n",
    "\n",
    "# Load the document from the specified directory\n",
    "documents = SimpleDirectoryReader(\"data/paul_graham/\").load_data()"
   ]
  },
  {
   "cell_type": "markdown",
   "metadata": {},
   "source": [
    "### Settings"
   ]
  },
  {
   "cell_type": "markdown",
   "metadata": {},
   "source": [
    "**namespace understanding**: https://docs.pinecone.io/guides/index-data/indexing-overview#namespaces"
   ]
  },
  {
   "cell_type": "code",
   "execution_count": 9,
   "metadata": {},
   "outputs": [
    {
     "name": "stderr",
     "output_type": "stream",
     "text": [
      "/usr/local/lib/python3.10/dist-packages/torchvision/io/image.py:13: UserWarning: Failed to load image Python extension: '/usr/local/lib/python3.10/dist-packages/torchvision/image.so: undefined symbol: _ZN3c1017RegisterOperatorsD1Ev'If you don't plan on using image functionality from `torchvision.io`, you can ignore this warning. Otherwise, there might be something wrong with your environment. Did you have `libjpeg` or `libpng` installed before building `torchvision` from source?\n",
      "  warn(\n"
     ]
    }
   ],
   "source": [
    "from pinecone import Pinecone\n",
    "\n",
    "from llama_index.core import Settings\n",
    "from llama_index.core import StorageContext\n",
    "from llama_index.vector_stores.pinecone import PineconeVectorStore\n",
    "from llama_index.core import VectorStoreIndex\n",
    "\n",
    "from llama_index.embeddings.huggingface import HuggingFaceEmbedding"
   ]
  },
  {
   "cell_type": "code",
   "execution_count": 10,
   "metadata": {},
   "outputs": [],
   "source": [
    "Settings.llm = OpenAILike(\n",
    "    model=\"typhoon-v2-70b-instruct\",\n",
    "    api_base=\"https://api.opentyphoon.ai/v1\",\n",
    "    api_key=os.getenv(\"TYPHOON_API_BASE\"),\n",
    "    context_window=8192,\n",
    "    is_chat_model=True,\n",
    "    is_function_calling_model=False,\n",
    ")"
   ]
  },
  {
   "cell_type": "code",
   "execution_count": 11,
   "metadata": {},
   "outputs": [],
   "source": [
    "from llama_index.embeddings.huggingface import HuggingFaceEmbedding\n",
    "\n",
    "# 3) Wrap in the LlamaIndex embedding interface: https://docs.llamaindex.ai/en/stable/examples/embeddings/huggingface/\n",
    "embed_model = HuggingFaceEmbedding(\n",
    "    model_name=\"Qwen/Qwen3-Embedding-0.6B\",\n",
    "    trust_remote_code=True,\n",
    "    device=\"cuda\",   \n",
    "    # embed_batch_size=1,   # keep these small if you’re low on VRAM\n",
    ")\n",
    "\n",
    "Settings.embed_model = embed_model"
   ]
  },
  {
   "cell_type": "code",
   "execution_count": 12,
   "metadata": {},
   "outputs": [],
   "source": [
    "pc = Pinecone(api_key=os.getenv(\"PINECONE_API_KEY\"))\n",
    "pinecone_index = pc.Index(\"quickstart\")"
   ]
  },
  {
   "cell_type": "markdown",
   "metadata": {},
   "source": [
    "**namespace: general**"
   ]
  },
  {
   "cell_type": "code",
   "execution_count": 13,
   "metadata": {},
   "outputs": [],
   "source": [
    "vector_store = PineconeVectorStore(\n",
    "    pinecone_index=pinecone_index,\n",
    "    namespace=\"general\",\n",
    "    )\n",
    "storage_context = StorageContext.from_defaults(vector_store=vector_store)"
   ]
  },
  {
   "cell_type": "code",
   "execution_count": 14,
   "metadata": {},
   "outputs": [
    {
     "data": {
      "application/vnd.jupyter.widget-view+json": {
       "model_id": "fc85ff90b6734eca841f121d317d5613",
       "version_major": 2,
       "version_minor": 0
      },
      "text/plain": [
       "Upserted vectors:   0%|          | 0/22 [00:00<?, ?it/s]"
      ]
     },
     "metadata": {},
     "output_type": "display_data"
    },
    {
     "name": "stdout",
     "output_type": "stream",
     "text": [
      "2.86 s ± 0 ns per loop (mean ± std. dev. of 1 run, 1 loop each)\n"
     ]
    }
   ],
   "source": [
    "%%timeit -r 1 -n 1\n",
    "index = VectorStoreIndex.from_documents(\n",
    "    documents, storage_context=storage_context\n",
    ")"
   ]
  },
  {
   "cell_type": "markdown",
   "metadata": {},
   "source": [
    "**namespace: non_general**"
   ]
  },
  {
   "cell_type": "code",
   "execution_count": 15,
   "metadata": {},
   "outputs": [],
   "source": [
    "vector_store = PineconeVectorStore(\n",
    "    pinecone_index=pinecone_index,\n",
    "    namespace=\"non_general\",\n",
    "    )\n",
    "storage_context = StorageContext.from_defaults(vector_store=vector_store)"
   ]
  },
  {
   "cell_type": "code",
   "execution_count": 16,
   "metadata": {},
   "outputs": [
    {
     "data": {
      "application/vnd.jupyter.widget-view+json": {
       "model_id": "1fd473b6a50c47eeb65f259f1011cced",
       "version_major": 2,
       "version_minor": 0
      },
      "text/plain": [
       "Upserted vectors:   0%|          | 0/22 [00:00<?, ?it/s]"
      ]
     },
     "metadata": {},
     "output_type": "display_data"
    },
    {
     "name": "stdout",
     "output_type": "stream",
     "text": [
      "2 s ± 0 ns per loop (mean ± std. dev. of 1 run, 1 loop each)\n"
     ]
    }
   ],
   "source": [
    "%%timeit -r 1 -n 1\n",
    "index = VectorStoreIndex.from_documents(\n",
    "    documents, storage_context=storage_context\n",
    ")"
   ]
  },
  {
   "cell_type": "markdown",
   "metadata": {},
   "source": [
    "### Query Index: Without llama-index"
   ]
  },
  {
   "cell_type": "code",
   "execution_count": 34,
   "metadata": {},
   "outputs": [],
   "source": [
    "import torch\n",
    "from transformers import AutoConfig, AutoTokenizer, AutoModel\n",
    "from pinecone import Pinecone\n",
    "from typing import Union, List\n",
    "\n",
    "from functools import cache\n",
    "import json"
   ]
  },
  {
   "cell_type": "code",
   "execution_count": 53,
   "metadata": {},
   "outputs": [],
   "source": [
    "# Config  \n",
    "\n",
    "PINECONE_INDEX_NAME = \"quickstart\"\n",
    "MODEL_NAME          = \"Qwen/Qwen3-Embedding-0.6B\"\n",
    "MAX_LEN             =  32768"
   ]
  },
  {
   "cell_type": "code",
   "execution_count": 92,
   "metadata": {},
   "outputs": [],
   "source": [
    "@cache\n",
    "def _device() -> torch.device:\n",
    "    if torch.cuda.is_available():\n",
    "        return torch.device(\"cuda\")\n",
    "    if torch.backends.mps.is_available():\n",
    "        return torch.device(\"mps\")\n",
    "    return torch.device(\"cpu\")\n",
    "\n",
    "@cache\n",
    "def _tokenizer():\n",
    "    return AutoTokenizer.from_pretrained(MODEL_NAME, trust_remote_code=True)\n",
    "\n",
    "@cache\n",
    "def _model():\n",
    "    config = AutoConfig.from_pretrained(MODEL_NAME, trust_remote_code=True)\n",
    "    # NOTE: Removed the unsupported add_pooling_layer argument here\n",
    "    model = AutoModel.from_pretrained(\n",
    "        MODEL_NAME,\n",
    "        config=config,\n",
    "        trust_remote_code=True,\n",
    "    ).to(_device()).eval()\n",
    "    return model\n",
    "\n",
    "@cache\n",
    "def _index():\n",
    "    pc = Pinecone(api_key=os.environ[\"PINECONE_API_KEY\"])\n",
    "    return pc.Index(PINECONE_INDEX_NAME)\n",
    "\n",
    "def list_namespaces() -> List[str]:\n",
    "    \"\"\"\n",
    "    Returns a list of all namespaces in the Pinecone index.\n",
    "    \"\"\"\n",
    "    stats = _index().describe_index_stats()\n",
    "    return list(stats[\"namespaces\"].keys())\n",
    "\n",
    "def _avg_pool(last_hidden: torch.Tensor, mask: torch.Tensor) -> torch.Tensor:\n",
    "    \"\"\"\n",
    "    Mean-pool the last hidden states over the token dimension,\n",
    "    ignoring padding (mask=0).\n",
    "    \"\"\"\n",
    "    masked = last_hidden.masked_fill(~mask[..., None].bool(), 0.0)\n",
    "    return masked.sum(dim=1) / mask.sum(dim=1)[..., None]\n",
    "\n",
    "def embed_query(text: str) -> List[float]:\n",
    "    \"\"\"\n",
    "    Tokenize the query, run it through the model, average-pool\n",
    "    the hidden states, normalize, and return a Python list.\n",
    "    \"\"\"\n",
    "    tok = _tokenizer()(\n",
    "        \"query: \" + text,\n",
    "        return_tensors=\"pt\",\n",
    "        truncation=True,\n",
    "        max_length=MAX_LEN,\n",
    "    ).to(_device())\n",
    "\n",
    "    with torch.no_grad():\n",
    "        hidden = _model()(**tok)[0]           # last_hidden_state\n",
    "        emb = _avg_pool(hidden, tok.attention_mask)\n",
    "        emb = torch.nn.functional.normalize(emb, p=2, dim=1)\n",
    "\n",
    "    return emb[0].cpu().tolist()\n",
    "\n",
    "def show(results: dict):\n",
    "    \"\"\"\n",
    "    Print the cosine score, namespace, and the node text \n",
    "    (extracted from _node_content → text) for each match.\n",
    "    \"\"\"\n",
    "    for m in results.get(\"matches\", []):\n",
    "        score = m.get(\"score\", 0.0)\n",
    "        namespace = m.get(\"namespace\", \"N/A\")\n",
    "        raw_node = m[\"metadata\"].get(\"_node_content\", \"\")\n",
    "        \n",
    "        # Parse the JSON blob to extract the \"text\" field\n",
    "        try:\n",
    "            node_obj = json.loads(raw_node)\n",
    "            content = node_obj.get(\"text\", \"\").strip()\n",
    "        except json.JSONDecodeError:\n",
    "            content = raw_node\n",
    "\n",
    "        print(f\"Score: {score:.3f} | Namespace: {namespace}\")\n",
    "        print(content)\n",
    "        print(\"#\"*8)\n",
    "\n",
    "\n",
    "def extract_boxed(text: str, self_reflect: bool = False) -> list[str] | None:\n",
    "    \"\"\"\n",
    "    Extracts a list of namespaces from a string of the form \\boxed{…}.\n",
    "    \"\"\"\n",
    "    m = re.search(r\"\\\\boxed\\{(.+?)\\}\", text)\n",
    "    if not m:\n",
    "        return None\n",
    "    content = m.group(1)\n",
    "    \n",
    "    # Extract the content after using self-reflection (string)\n",
    "    if self_reflect:\n",
    "        return content\n",
    "\n",
    "    try:\n",
    "        return ast.literal_eval(content)\n",
    "    except Exception:\n",
    "        return [x.strip() for x in content.split(\",\") if x.strip()]"
   ]
  },
  {
   "cell_type": "code",
   "execution_count": 32,
   "metadata": {},
   "outputs": [],
   "source": [
    "def query_pinecone(query: str, top_k: int = 5, ns: Union[str, List[str]] = \"default\"):\n",
    "    \"\"\"\n",
    "    Query Pinecone across one or multiple namespaces using a dense embedding.\n",
    "\n",
    "    Args:\n",
    "        query (str): Text query to embed and search.\n",
    "        top_k (int): Number of top results to return.\n",
    "        ns (Union[str, List[str]]): One or more namespaces to search.\n",
    "                                    Use \"default\" to query all available.\n",
    "\n",
    "    Returns:\n",
    "        dict: Pinecone query results with metadata.\n",
    "    \"\"\"\n",
    "    # Normalize namespaces\n",
    "    if ns == \"default\":\n",
    "        namespaces = list_namespaces()\n",
    "    else:\n",
    "        namespaces = [ns] if isinstance(ns, str) else ns\n",
    "\n",
    "    return _index().query_namespaces(\n",
    "        vector=embed_query(query),\n",
    "        top_k=top_k,\n",
    "        namespaces=namespaces,\n",
    "        metric=\"cosine\",\n",
    "        include_metadata=True,\n",
    "        show_progress=True,\n",
    "    )"
   ]
  },
  {
   "cell_type": "code",
   "execution_count": 25,
   "metadata": {},
   "outputs": [],
   "source": [
    "results = query_pinecone(\"What did the author do growing up?\", top_k=3, ns=[\"general\"])"
   ]
  },
  {
   "cell_type": "code",
   "execution_count": 38,
   "metadata": {},
   "outputs": [],
   "source": [
    "# results"
   ]
  },
  {
   "cell_type": "code",
   "execution_count": 37,
   "metadata": {},
   "outputs": [
    {
     "name": "stdout",
     "output_type": "stream",
     "text": [
      "Score: 0.436\n",
      "But it didn't feel very valuable to me; I had no idea how to value a business, but I was all too keenly aware of the near-death experiences we seemed to have every few months. Nor had I changed my grad student lifestyle significantly since we started. So when Yahoo bought us it felt like going from rags to riches. Since we were going to California, I bought a car, a yellow 1998 VW GTI. I remember thinking that its leather seats alone were by far the most luxurious thing I owned.\n",
      "\n",
      "The next year, from the summer of 1998 to the summer of 1999, must have been the least productive of my life. I didn't realize it at the time, but I was worn out from the effort and stress of running Viaweb. For a while after I got to California I tried to continue my usual m.o. of programming till 3 in the morning, but fatigue combined with Yahoo's prematurely aged culture and grim cube farm in Santa Clara gradually dragged me down. After a few months it felt disconcertingly like working at Interleaf.\n",
      "\n",
      "Yahoo had given us a lot of options when they bought us. At the time I thought Yahoo was so overvalued that they'd never be worth anything, but to my astonishment the stock went up 5x in the next year. I hung on till the first chunk of options vested, then in the summer of 1999 I left. It had been so long since I'd painted anything that I'd half forgotten why I was doing this. My brain had been entirely full of software and men's shirts for 4 years. But I had done this to get rich so I could paint, I reminded myself, and now I was rich, so I should go paint.\n",
      "\n",
      "When I said I was leaving, my boss at Yahoo had a long conversation with me about my plans. I told him all about the kinds of pictures I wanted to paint. At the time I was touched that he took such an interest in me. Now I realize it was because he thought I was lying. My options at that point were worth about $2 million a month. If I was leaving that kind of money on the table, it could only be to go and start some new startup, and if I did, I might take people with me. This was the height of the Internet Bubble, and Yahoo was ground zero of it. My boss was at that moment a billionaire. Leaving then to start a new startup must have seemed to him an insanely, and yet also plausibly, ambitious plan.\n",
      "\n",
      "But I really was quitting to paint, and I started immediately. There was no time to lose. I'd already burned 4 years getting rich. Now when I talk to founders who are leaving after selling their companies, my advice is always the same: take a vacation. That's what I should have done, just gone off somewhere and done nothing for a month or two, but the idea never occurred to me.\n",
      "\n",
      "So I tried to paint, but I just didn't seem to have any energy or ambition. Part of the problem was that I didn't know many people in California. I'd compounded this problem by buying a house up in the Santa Cruz Mountains, with a beautiful view but miles from anywhere. I stuck it out for a few more months, then in desperation I went back to New York, where unless you understand about rent control you'll be surprised to hear I still had my apartment, sealed up like a tomb of my old life. Idelle was in New York at least, and there were other people trying to paint there, even though I didn't know any of them.\n",
      "\n",
      "When I got back to New York I resumed my old life, except now I was rich. It was as weird as it sounds. I resumed all my old patterns, except now there were doors where there hadn't been. Now when I was tired of walking, all I had to do was raise my hand, and (unless it was raining) a taxi would stop to pick me up. Now when I walked past charming little restaurants I could go in and order lunch. It was exciting for a while. Painting started to go better. I experimented with a new kind of still life where I'd paint one painting in the old way, then photograph it and print it, blown up, on canvas, and then use that as the underpainting for a second still life, painted from the same objects (which hopefully hadn't rotted yet).\n",
      "\n",
      "Meanwhile I looked for an apartment to buy. Now I could actually choose what neighborhood to live in. Where, I asked myself and various real estate agents, is the Cambridge of New York?\n",
      "\n",
      "Score: 0.436\n",
      "But it didn't feel very valuable to me; I had no idea how to value a business, but I was all too keenly aware of the near-death experiences we seemed to have every few months. Nor had I changed my grad student lifestyle significantly since we started. So when Yahoo bought us it felt like going from rags to riches. Since we were going to California, I bought a car, a yellow 1998 VW GTI. I remember thinking that its leather seats alone were by far the most luxurious thing I owned.\n",
      "\n",
      "The next year, from the summer of 1998 to the summer of 1999, must have been the least productive of my life. I didn't realize it at the time, but I was worn out from the effort and stress of running Viaweb. For a while after I got to California I tried to continue my usual m.o. of programming till 3 in the morning, but fatigue combined with Yahoo's prematurely aged culture and grim cube farm in Santa Clara gradually dragged me down. After a few months it felt disconcertingly like working at Interleaf.\n",
      "\n",
      "Yahoo had given us a lot of options when they bought us. At the time I thought Yahoo was so overvalued that they'd never be worth anything, but to my astonishment the stock went up 5x in the next year. I hung on till the first chunk of options vested, then in the summer of 1999 I left. It had been so long since I'd painted anything that I'd half forgotten why I was doing this. My brain had been entirely full of software and men's shirts for 4 years. But I had done this to get rich so I could paint, I reminded myself, and now I was rich, so I should go paint.\n",
      "\n",
      "When I said I was leaving, my boss at Yahoo had a long conversation with me about my plans. I told him all about the kinds of pictures I wanted to paint. At the time I was touched that he took such an interest in me. Now I realize it was because he thought I was lying. My options at that point were worth about $2 million a month. If I was leaving that kind of money on the table, it could only be to go and start some new startup, and if I did, I might take people with me. This was the height of the Internet Bubble, and Yahoo was ground zero of it. My boss was at that moment a billionaire. Leaving then to start a new startup must have seemed to him an insanely, and yet also plausibly, ambitious plan.\n",
      "\n",
      "But I really was quitting to paint, and I started immediately. There was no time to lose. I'd already burned 4 years getting rich. Now when I talk to founders who are leaving after selling their companies, my advice is always the same: take a vacation. That's what I should have done, just gone off somewhere and done nothing for a month or two, but the idea never occurred to me.\n",
      "\n",
      "So I tried to paint, but I just didn't seem to have any energy or ambition. Part of the problem was that I didn't know many people in California. I'd compounded this problem by buying a house up in the Santa Cruz Mountains, with a beautiful view but miles from anywhere. I stuck it out for a few more months, then in desperation I went back to New York, where unless you understand about rent control you'll be surprised to hear I still had my apartment, sealed up like a tomb of my old life. Idelle was in New York at least, and there were other people trying to paint there, even though I didn't know any of them.\n",
      "\n",
      "When I got back to New York I resumed my old life, except now I was rich. It was as weird as it sounds. I resumed all my old patterns, except now there were doors where there hadn't been. Now when I was tired of walking, all I had to do was raise my hand, and (unless it was raining) a taxi would stop to pick me up. Now when I walked past charming little restaurants I could go in and order lunch. It was exciting for a while. Painting started to go better. I experimented with a new kind of still life where I'd paint one painting in the old way, then photograph it and print it, blown up, on canvas, and then use that as the underpainting for a second still life, painted from the same objects (which hopefully hadn't rotted yet).\n",
      "\n",
      "Meanwhile I looked for an apartment to buy. Now I could actually choose what neighborhood to live in. Where, I asked myself and various real estate agents, is the Cambridge of New York?\n",
      "\n",
      "Score: 0.419\n",
      "Now that I could write essays again, I wrote a bunch about topics I'd had stacked up. I kept writing essays through 2020, but I also started to think about other things I could work on. How should I choose what to do? Well, how had I chosen what to work on in the past? I wrote an essay for myself to answer that question, and I was surprised how long and messy the answer turned out to be. If this surprised me, who'd lived it, then I thought perhaps it would be interesting to other people, and encouraging to those with similarly messy lives. So I wrote a more detailed version for others to read, and this is the last sentence of it.\n",
      "\n",
      "\n",
      "\n",
      "\n",
      "\n",
      "\n",
      "\n",
      "\n",
      "\n",
      "Notes\n",
      "\n",
      "[1] My experience skipped a step in the evolution of computers: time-sharing machines with interactive OSes. I went straight from batch processing to microcomputers, which made microcomputers seem all the more exciting.\n",
      "\n",
      "[2] Italian words for abstract concepts can nearly always be predicted from their English cognates (except for occasional traps like polluzione). It's the everyday words that differ. So if you string together a lot of abstract concepts with a few simple verbs, you can make a little Italian go a long way.\n",
      "\n",
      "[3] I lived at Piazza San Felice 4, so my walk to the Accademia went straight down the spine of old Florence: past the Pitti, across the bridge, past Orsanmichele, between the Duomo and the Baptistery, and then up Via Ricasoli to Piazza San Marco. I saw Florence at street level in every possible condition, from empty dark winter evenings to sweltering summer days when the streets were packed with tourists.\n",
      "\n",
      "[4] You can of course paint people like still lives if you want to, and they're willing. That sort of portrait is arguably the apex of still life painting, though the long sitting does tend to produce pained expressions in the sitters.\n",
      "\n",
      "[5] Interleaf was one of many companies that had smart people and built impressive technology, and yet got crushed by Moore's Law. In the 1990s the exponential growth in the power of commodity (i.e. Intel) processors rolled up high-end, special-purpose hardware and software companies like a bulldozer.\n",
      "\n",
      "[6] The signature style seekers at RISD weren't specifically mercenary. In the art world, money and coolness are tightly coupled. Anything expensive comes to be seen as cool, and anything seen as cool will soon become equally expensive.\n",
      "\n",
      "[7] Technically the apartment wasn't rent-controlled but rent-stabilized, but this is a refinement only New Yorkers would know or care about. The point is that it was really cheap, less than half market price.\n",
      "\n",
      "[8] Most software you can launch as soon as it's done. But when the software is an online store builder and you're hosting the stores, if you don't have any users yet, that fact will be painfully obvious. So before we could launch publicly we had to launch privately, in the sense of recruiting an initial set of users and making sure they had decent-looking stores.\n",
      "\n",
      "[9] We'd had a code editor in Viaweb for users to define their own page styles. They didn't know it, but they were editing Lisp expressions underneath. But this wasn't an app editor, because the code ran when the merchants' sites were generated, not when shoppers visited them.\n",
      "\n",
      "[10] This was the first instance of what is now a familiar experience, and so was what happened next, when I read the comments and found they were full of angry people. How could I claim that Lisp was better than other languages? Weren't they all Turing complete? People who see the responses to essays I write sometimes tell me how sorry they feel for me, but I'm not exaggerating when I reply that it has always been like this, since the very beginning. It comes with the territory. An essay must tell readers things they don't already know, and some people dislike being told such things.\n",
      "\n",
      "[11] People put plenty of stuff on the internet in the 90s of course, but putting something online is not the same as publishing it online. Publishing online means you treat the online version as the (or at least a) primary version.\n",
      "\n",
      "[12] There is a general lesson here that our experience with Y Combinator also teaches: Customs continue to constrain you long after the restrictions that caused them have disappeared. Customary VC practice had once, like the customs about publishing essays, been based on real constraints. Startups had once been much more expensive to start, and proportionally rare.\n",
      "\n"
     ]
    }
   ],
   "source": [
    "show(results)"
   ]
  },
  {
   "cell_type": "code",
   "execution_count": 59,
   "metadata": {},
   "outputs": [],
   "source": [
    "from openai import OpenAI\n",
    "import re\n",
    "import ast\n",
    "from collections import Counter\n",
    "import os"
   ]
  },
  {
   "cell_type": "code",
   "execution_count": 73,
   "metadata": {},
   "outputs": [],
   "source": [
    "client = OpenAI(\n",
    "    api_key=os.getenv(\"TYPHOON_API_BASE\"),\n",
    "    base_url=\"https://api.opentyphoon.ai/v1\"\n",
    ")"
   ]
  },
  {
   "cell_type": "code",
   "execution_count": 74,
   "metadata": {},
   "outputs": [],
   "source": [
    "# Make a completion request\n",
    "response = client.chat.completions.create(\n",
    "    model=\"typhoon-v2-70b-instruct\",\n",
    "    messages=[\n",
    "        {\"role\": \"system\", \"content\": \"You are a helpful assistant.\"},\n",
    "        {\"role\": \"user\", \"content\": \"Hello, world!!!\"}\n",
    "    ],\n",
    "    max_tokens=512,\n",
    "    temperature=0.6\n",
    ")"
   ]
  },
  {
   "cell_type": "code",
   "execution_count": 75,
   "metadata": {},
   "outputs": [
    {
     "name": "stdout",
     "output_type": "stream",
     "text": [
      "Hello! How can I help you today?\n"
     ]
    }
   ],
   "source": [
    "print(response.choices[0].message.content)"
   ]
  },
  {
   "cell_type": "code",
   "execution_count": 81,
   "metadata": {},
   "outputs": [],
   "source": [
    "def extract_boxed(text: str) -> list[str] | None:\n",
    "    \"\"\"\n",
    "    Extract a list of namespaces from:\n",
    "      - \\boxed{…} or \\boxed[…]\n",
    "      - bare bracket literals like [a, b]\n",
    "    Returns None if nothing matches.\n",
    "    \"\"\"\n",
    "    # matching \\boxed{…} or \\boxed[…]\n",
    "    m = re.search(r\"\\\\boxed(?:\\{|\\[)(.+?)(?:\\}|\\])\", text)\n",
    "    if m:\n",
    "        content = m.group(1)\n",
    "\n",
    "    else:\n",
    "        stripped = text.strip()\n",
    "        if stripped.startswith(\"[\") and stripped.endswith(\"]\"):\n",
    "            content = stripped[1:-1]\n",
    "        else:\n",
    "            return None\n",
    "\n",
    "    try:\n",
    "        return ast.literal_eval(f\"[{content}]\" if not content.strip().startswith((\"[\", \"{\")) else content)\n",
    "    except Exception:\n",
    "        parts = [p.strip().strip(\"'\\\"\") for p in content.split(\",\") if p.strip()]\n",
    "        return parts or None\n",
    "\n",
    "def choose_namespaces(\n",
    "    question: str,\n",
    "    available: list[str],\n",
    "    votes: int = 4,\n",
    "    top_n: int = 2\n",
    ") -> list[str]:\n",
    "    system_prompt = (\n",
    "        \"You are a helpful assistant that classifies questions \"\n",
    "        \"into topic namespaces. Only select from the provided list.\"\n",
    "    )\n",
    "    choices_str = \", \".join(available)\n",
    "    ballots: list[str] = []\n",
    "\n",
    "    # 1) Send the batch of votes\n",
    "    response = client.chat.completions.create(\n",
    "        model=\"typhoon-v2-70b-instruct\",\n",
    "        messages=[\n",
    "            {\"role\": \"system\",  \"content\": system_prompt},\n",
    "            {\n",
    "                \"role\": \"user\",\n",
    "                \"content\": (\n",
    "                    f\"Q: {question}\\n\\n\"\n",
    "                    f\"Available namespaces: {choices_str}\\n\\n\"\n",
    "                    \"Choose only the most relevant namespaces, \"\n",
    "                    \"and return the result in \\\\boxed[].\"\n",
    "                ),\n",
    "            },\n",
    "        ],\n",
    "        max_tokens=128,\n",
    "        temperature=0.6,\n",
    "        n=votes\n",
    "    )\n",
    "\n",
    "    # 2) Show each vote and what it parsed\n",
    "    print(f\"\\n=== Voting results ({votes} ballots) ===\")\n",
    "    for i, choice in enumerate(response.choices, 1):\n",
    "        text = choice.message.content.strip()\n",
    "        ns = extract_boxed(text) or []\n",
    "        print(f\"Vote {i}: raw → {repr(text)}\")\n",
    "        print(f\"         parsed → {ns}\")\n",
    "        ballots.extend(ns)\n",
    "\n",
    "    if not ballots:\n",
    "        print(\"No namespaces extracted; falling back to ['default'].\")\n",
    "        return [\"default\"]\n",
    "\n",
    "    # 3) Tally and show counts\n",
    "    counts = Counter(ballots)\n",
    "    print(\"\\n=== Tally of all ballots ===\")\n",
    "    for ns, cnt in counts.items():\n",
    "        print(f\"  {ns}: {cnt} vote{'s' if cnt>1 else ''}\")\n",
    "\n",
    "    # 4) Select top_n and filter by available\n",
    "    selected = [ns for ns, _ in counts.most_common(top_n)]\n",
    "    valid = [ns for ns in selected if ns in available]\n",
    "    final = valid or [\"default\"]\n",
    "    print(f\"\\nSelected top {top_n}: {final}\\n\")\n",
    "\n",
    "    return final"
   ]
  },
  {
   "cell_type": "code",
   "execution_count": 82,
   "metadata": {},
   "outputs": [],
   "source": [
    "Query = \"What did the author do growing up?\""
   ]
  },
  {
   "cell_type": "code",
   "execution_count": 83,
   "metadata": {},
   "outputs": [],
   "source": [
    "available_namespaces = [\"general\", \"non_general\"]"
   ]
  },
  {
   "cell_type": "code",
   "execution_count": 87,
   "metadata": {},
   "outputs": [
    {
     "name": "stdout",
     "output_type": "stream",
     "text": [
      "\n",
      "=== Voting results (4 ballots) ===\n",
      "Vote 1: raw → '\\\\boxed[non_general]'\n",
      "         parsed → ['non_general']\n",
      "Vote 2: raw → '\\\\boxed[general]'\n",
      "         parsed → ['general']\n",
      "Vote 3: raw → '\\\\boxed[non_general]'\n",
      "         parsed → ['non_general']\n",
      "Vote 4: raw → '\\\\boxed[general]'\n",
      "         parsed → ['general']\n",
      "\n",
      "=== Tally of all ballots ===\n",
      "  non_general: 2 votes\n",
      "  general: 2 votes\n",
      "\n",
      "Selected top 2: ['non_general', 'general']\n",
      "\n"
     ]
    }
   ],
   "source": [
    "selected = choose_namespaces(\n",
    "    Query, \n",
    "    available_namespaces,\n",
    ")"
   ]
  },
  {
   "cell_type": "code",
   "execution_count": 88,
   "metadata": {},
   "outputs": [
    {
     "data": {
      "text/plain": [
       "['non_general', 'general']"
      ]
     },
     "execution_count": 88,
     "metadata": {},
     "output_type": "execute_result"
    }
   ],
   "source": [
    "selected"
   ]
  },
  {
   "cell_type": "code",
   "execution_count": 96,
   "metadata": {},
   "outputs": [],
   "source": [
    "results = query_pinecone(Query, top_k=1, ns=selected)"
   ]
  },
  {
   "cell_type": "code",
   "execution_count": 97,
   "metadata": {},
   "outputs": [
    {
     "name": "stdout",
     "output_type": "stream",
     "text": [
      "Score: 0.437 | Namespace: non_general\n",
      "But it didn't feel very valuable to me; I had no idea how to value a business, but I was all too keenly aware of the near-death experiences we seemed to have every few months. Nor had I changed my grad student lifestyle significantly since we started. So when Yahoo bought us it felt like going from rags to riches. Since we were going to California, I bought a car, a yellow 1998 VW GTI. I remember thinking that its leather seats alone were by far the most luxurious thing I owned.\n",
      "\n",
      "The next year, from the summer of 1998 to the summer of 1999, must have been the least productive of my life. I didn't realize it at the time, but I was worn out from the effort and stress of running Viaweb. For a while after I got to California I tried to continue my usual m.o. of programming till 3 in the morning, but fatigue combined with Yahoo's prematurely aged culture and grim cube farm in Santa Clara gradually dragged me down. After a few months it felt disconcertingly like working at Interleaf.\n",
      "\n",
      "Yahoo had given us a lot of options when they bought us. At the time I thought Yahoo was so overvalued that they'd never be worth anything, but to my astonishment the stock went up 5x in the next year. I hung on till the first chunk of options vested, then in the summer of 1999 I left. It had been so long since I'd painted anything that I'd half forgotten why I was doing this. My brain had been entirely full of software and men's shirts for 4 years. But I had done this to get rich so I could paint, I reminded myself, and now I was rich, so I should go paint.\n",
      "\n",
      "When I said I was leaving, my boss at Yahoo had a long conversation with me about my plans. I told him all about the kinds of pictures I wanted to paint. At the time I was touched that he took such an interest in me. Now I realize it was because he thought I was lying. My options at that point were worth about $2 million a month. If I was leaving that kind of money on the table, it could only be to go and start some new startup, and if I did, I might take people with me. This was the height of the Internet Bubble, and Yahoo was ground zero of it. My boss was at that moment a billionaire. Leaving then to start a new startup must have seemed to him an insanely, and yet also plausibly, ambitious plan.\n",
      "\n",
      "But I really was quitting to paint, and I started immediately. There was no time to lose. I'd already burned 4 years getting rich. Now when I talk to founders who are leaving after selling their companies, my advice is always the same: take a vacation. That's what I should have done, just gone off somewhere and done nothing for a month or two, but the idea never occurred to me.\n",
      "\n",
      "So I tried to paint, but I just didn't seem to have any energy or ambition. Part of the problem was that I didn't know many people in California. I'd compounded this problem by buying a house up in the Santa Cruz Mountains, with a beautiful view but miles from anywhere. I stuck it out for a few more months, then in desperation I went back to New York, where unless you understand about rent control you'll be surprised to hear I still had my apartment, sealed up like a tomb of my old life. Idelle was in New York at least, and there were other people trying to paint there, even though I didn't know any of them.\n",
      "\n",
      "When I got back to New York I resumed my old life, except now I was rich. It was as weird as it sounds. I resumed all my old patterns, except now there were doors where there hadn't been. Now when I was tired of walking, all I had to do was raise my hand, and (unless it was raining) a taxi would stop to pick me up. Now when I walked past charming little restaurants I could go in and order lunch. It was exciting for a while. Painting started to go better. I experimented with a new kind of still life where I'd paint one painting in the old way, then photograph it and print it, blown up, on canvas, and then use that as the underpainting for a second still life, painted from the same objects (which hopefully hadn't rotted yet).\n",
      "\n",
      "Meanwhile I looked for an apartment to buy. Now I could actually choose what neighborhood to live in. Where, I asked myself and various real estate agents, is the Cambridge of New York?\n",
      "########\n"
     ]
    }
   ],
   "source": [
    "show(results)"
   ]
  },
  {
   "cell_type": "code",
   "execution_count": 99,
   "metadata": {},
   "outputs": [
    {
     "data": {
      "text/plain": [
       "\"But it didn't feel very valuable to me; I had no idea how to value a business, but I was all too keenly aware of the near-death experiences we seemed to have every few months. Nor had I changed my grad student lifestyle significantly since we started. So when Yahoo bought us it felt like going from rags to riches. Since we were going to California, I bought a car, a yellow 1998 VW GTI. I remember thinking that its leather seats alone were by far the most luxurious thing I owned.\\n\\nThe next year, from the summer of 1998 to the summer of 1999, must have been the least productive of my life. I didn't realize it at the time, but I was worn out from the effort and stress of running Viaweb. For a while after I got to California I tried to continue my usual m.o. of programming till 3 in the morning, but fatigue combined with Yahoo's prematurely aged culture and grim cube farm in Santa Clara gradually dragged me down. After a few months it felt disconcertingly like working at Interleaf.\\n\\nYahoo had given us a lot of options when they bought us. At the time I thought Yahoo was so overvalued that they'd never be worth anything, but to my astonishment the stock went up 5x in the next year. I hung on till the first chunk of options vested, then in the summer of 1999 I left. It had been so long since I'd painted anything that I'd half forgotten why I was doing this. My brain had been entirely full of software and men's shirts for 4 years. But I had done this to get rich so I could paint, I reminded myself, and now I was rich, so I should go paint.\\n\\nWhen I said I was leaving, my boss at Yahoo had a long conversation with me about my plans. I told him all about the kinds of pictures I wanted to paint. At the time I was touched that he took such an interest in me. Now I realize it was because he thought I was lying. My options at that point were worth about $2 million a month. If I was leaving that kind of money on the table, it could only be to go and start some new startup, and if I did, I might take people with me. This was the height of the Internet Bubble, and Yahoo was ground zero of it. My boss was at that moment a billionaire. Leaving then to start a new startup must have seemed to him an insanely, and yet also plausibly, ambitious plan.\\n\\nBut I really was quitting to paint, and I started immediately. There was no time to lose. I'd already burned 4 years getting rich. Now when I talk to founders who are leaving after selling their companies, my advice is always the same: take a vacation. That's what I should have done, just gone off somewhere and done nothing for a month or two, but the idea never occurred to me.\\n\\nSo I tried to paint, but I just didn't seem to have any energy or ambition. Part of the problem was that I didn't know many people in California. I'd compounded this problem by buying a house up in the Santa Cruz Mountains, with a beautiful view but miles from anywhere. I stuck it out for a few more months, then in desperation I went back to New York, where unless you understand about rent control you'll be surprised to hear I still had my apartment, sealed up like a tomb of my old life. Idelle was in New York at least, and there were other people trying to paint there, even though I didn't know any of them.\\n\\nWhen I got back to New York I resumed my old life, except now I was rich. It was as weird as it sounds. I resumed all my old patterns, except now there were doors where there hadn't been. Now when I was tired of walking, all I had to do was raise my hand, and (unless it was raining) a taxi would stop to pick me up. Now when I walked past charming little restaurants I could go in and order lunch. It was exciting for a while. Painting started to go better. I experimented with a new kind of still life where I'd paint one painting in the old way, then photograph it and print it, blown up, on canvas, and then use that as the underpainting for a second still life, painted from the same objects (which hopefully hadn't rotted yet).\\n\\nMeanwhile I looked for an apartment to buy. Now I could actually choose what neighborhood to live in. Where, I asked myself and various real estate agents, is the Cambridge of New York?\""
      ]
     },
     "execution_count": 99,
     "metadata": {},
     "output_type": "execute_result"
    }
   ],
   "source": [
    "matches = results.get(\"matches\", [])\n",
    "\n",
    "texts = []\n",
    "for m in matches:\n",
    "    raw_node = m[\"metadata\"].get(\"_node_content\", \"\")\n",
    "    node_obj = json.loads(raw_node)\n",
    "    texts.append(node_obj.get(\"text\", \"\").strip())\n",
    "    \n",
    "aggregated_context = \"\\n\\n\".join(texts)\n",
    "aggregated_context"
   ]
  },
  {
   "cell_type": "code",
   "execution_count": 109,
   "metadata": {},
   "outputs": [],
   "source": [
    "Query = \"What did the author do growing up?\"\n",
    "\n",
    "final_prompt = f\"You are a helpful assistant.\\n\\n### Context: {aggregated_context}\""
   ]
  },
  {
   "cell_type": "code",
   "execution_count": 116,
   "metadata": {},
   "outputs": [],
   "source": [
    "# Make a completion request\n",
    "response = client.chat.completions.create(\n",
    "    model=\"typhoon-v2-70b-instruct\",\n",
    "    messages=[\n",
    "        {\"role\": \"system\", \"content\": final_prompt},\n",
    "        {\"role\": \"user\", \"content\": Query}\n",
    "    ],\n",
    "    max_tokens=2048,\n",
    "    temperature=0.6\n",
    ")"
   ]
  },
  {
   "cell_type": "code",
   "execution_count": 117,
   "metadata": {},
   "outputs": [
    {
     "name": "stdout",
     "output_type": "stream",
     "text": [
      "The text does not provide specific details about the author's childhood or upbringing. However, it mentions that the author was a graduate student before starting the company Viaweb, suggesting that the author pursued higher education prior to becoming an entrepreneur.\n"
     ]
    }
   ],
   "source": [
    "print(response.choices[0].message.content)"
   ]
  },
  {
   "cell_type": "markdown",
   "metadata": {},
   "source": [
    "# See More: https://github.com/DoTA-RAG/dota-rag"
   ]
  }
 ],
 "metadata": {
  "kernelspec": {
   "display_name": "Python 3 (ipykernel)",
   "language": "python",
   "name": "python3"
  },
  "language_info": {
   "codemirror_mode": {
    "name": "ipython",
    "version": 3
   },
   "file_extension": ".py",
   "mimetype": "text/x-python",
   "name": "python",
   "nbconvert_exporter": "python",
   "pygments_lexer": "ipython3",
   "version": "3.10.12"
  }
 },
 "nbformat": 4,
 "nbformat_minor": 4
}
